{
 "cells": [
  {
   "cell_type": "code",
   "execution_count": 1,
   "metadata": {},
   "outputs": [],
   "source": [
    "import numpy as np\n",
    "import pandas as pd\n",
    "import scipy.stats \n",
    "import matplotlib.pyplot as plt"
   ]
  },
  {
   "cell_type": "code",
   "execution_count": 2,
   "metadata": {},
   "outputs": [
    {
     "name": "stdout",
     "output_type": "stream",
     "text": [
      "We have 0 NaN/NULL values in music_tb\n"
     ]
    }
   ],
   "source": [
    "#load data\n",
    "music_tb=pd.read_csv(\"myMusic.csv\")#.drop(\"index\",axis=1)\n",
    "music_tb\n",
    "print('We have {} NaN/NULL values in music_tb'.format(music_tb.isnull().values.sum()))\n",
    "# print('We have {} NaN/NULL values in test '.format(xtest.isnull().values.sum()))"
   ]
  },
  {
   "cell_type": "code",
   "execution_count": 3,
   "metadata": {},
   "outputs": [
    {
     "data": {
      "text/plain": [
       "count      1917.000000\n",
       "mean     233298.828378\n",
       "std       84404.190857\n",
       "min       60867.000000\n",
       "25%      175000.000000\n",
       "50%      218787.000000\n",
       "75%      271933.000000\n",
       "max      598867.000000\n",
       "Name: duration_ms, dtype: float64"
      ]
     },
     "execution_count": 3,
     "metadata": {},
     "output_type": "execute_result"
    }
   ],
   "source": [
    "one_to_ten_minutes = (music_tb[\"duration_ms\"] >= 60000) & (\n",
    "    music_tb[\"duration_ms\"] <= 10 * 60000\n",
    ")\n",
    "music_tb = music_tb.loc[one_to_ten_minutes.values]\n",
    "music_tb[\"duration_ms\"].describe()"
   ]
  },
  {
   "cell_type": "code",
   "execution_count": 4,
   "metadata": {},
   "outputs": [
    {
     "data": {
      "text/html": [
       "<div>\n",
       "<style scoped>\n",
       "    .dataframe tbody tr th:only-of-type {\n",
       "        vertical-align: middle;\n",
       "    }\n",
       "\n",
       "    .dataframe tbody tr th {\n",
       "        vertical-align: top;\n",
       "    }\n",
       "\n",
       "    .dataframe thead th {\n",
       "        text-align: right;\n",
       "    }\n",
       "</style>\n",
       "<table border=\"1\" class=\"dataframe\">\n",
       "  <thead>\n",
       "    <tr style=\"text-align: right;\">\n",
       "      <th></th>\n",
       "      <th>danceability</th>\n",
       "      <th>valence</th>\n",
       "      <th>tempo</th>\n",
       "      <th>loudness</th>\n",
       "      <th>acousticness</th>\n",
       "      <th>instrumentalness</th>\n",
       "      <th>liveness</th>\n",
       "      <th>speechiness</th>\n",
       "      <th>duration_ms</th>\n",
       "    </tr>\n",
       "  </thead>\n",
       "  <tbody>\n",
       "    <tr>\n",
       "      <th>0</th>\n",
       "      <td>-1.240498</td>\n",
       "      <td>-0.753608</td>\n",
       "      <td>1.685081</td>\n",
       "      <td>-0.071700</td>\n",
       "      <td>1.121831</td>\n",
       "      <td>-0.436226</td>\n",
       "      <td>-0.129738</td>\n",
       "      <td>-0.411828</td>\n",
       "      <td>-0.693438</td>\n",
       "    </tr>\n",
       "    <tr>\n",
       "      <th>1</th>\n",
       "      <td>0.882290</td>\n",
       "      <td>1.585774</td>\n",
       "      <td>-0.693585</td>\n",
       "      <td>0.491367</td>\n",
       "      <td>0.083172</td>\n",
       "      <td>-0.413173</td>\n",
       "      <td>-0.151224</td>\n",
       "      <td>-0.369247</td>\n",
       "      <td>-0.640797</td>\n",
       "    </tr>\n",
       "    <tr>\n",
       "      <th>2</th>\n",
       "      <td>1.971697</td>\n",
       "      <td>-0.772783</td>\n",
       "      <td>-1.509940</td>\n",
       "      <td>1.107056</td>\n",
       "      <td>-1.094820</td>\n",
       "      <td>-0.436226</td>\n",
       "      <td>0.960648</td>\n",
       "      <td>1.269490</td>\n",
       "      <td>0.103270</td>\n",
       "    </tr>\n",
       "    <tr>\n",
       "      <th>3</th>\n",
       "      <td>-0.754934</td>\n",
       "      <td>-1.581979</td>\n",
       "      <td>-0.558825</td>\n",
       "      <td>-1.065061</td>\n",
       "      <td>1.026128</td>\n",
       "      <td>3.104312</td>\n",
       "      <td>-0.312365</td>\n",
       "      <td>-0.456990</td>\n",
       "      <td>2.261546</td>\n",
       "    </tr>\n",
       "    <tr>\n",
       "      <th>4</th>\n",
       "      <td>-0.848312</td>\n",
       "      <td>0.243506</td>\n",
       "      <td>0.034845</td>\n",
       "      <td>-2.125820</td>\n",
       "      <td>1.234423</td>\n",
       "      <td>-0.411859</td>\n",
       "      <td>0.085116</td>\n",
       "      <td>-0.356344</td>\n",
       "      <td>0.375212</td>\n",
       "    </tr>\n",
       "    <tr>\n",
       "      <th>...</th>\n",
       "      <td>...</td>\n",
       "      <td>...</td>\n",
       "      <td>...</td>\n",
       "      <td>...</td>\n",
       "      <td>...</td>\n",
       "      <td>...</td>\n",
       "      <td>...</td>\n",
       "      <td>...</td>\n",
       "      <td>...</td>\n",
       "    </tr>\n",
       "    <tr>\n",
       "      <th>1912</th>\n",
       "      <td>-0.045263</td>\n",
       "      <td>1.209939</td>\n",
       "      <td>-0.687541</td>\n",
       "      <td>1.008085</td>\n",
       "      <td>-0.218011</td>\n",
       "      <td>-0.436199</td>\n",
       "      <td>-0.750130</td>\n",
       "      <td>-0.146018</td>\n",
       "      <td>0.665640</td>\n",
       "    </tr>\n",
       "    <tr>\n",
       "      <th>1913</th>\n",
       "      <td>-0.736258</td>\n",
       "      <td>-1.574309</td>\n",
       "      <td>1.795427</td>\n",
       "      <td>1.228899</td>\n",
       "      <td>0.344948</td>\n",
       "      <td>-0.436201</td>\n",
       "      <td>-0.597047</td>\n",
       "      <td>-0.293117</td>\n",
       "      <td>-0.388457</td>\n",
       "    </tr>\n",
       "    <tr>\n",
       "      <th>1914</th>\n",
       "      <td>0.764011</td>\n",
       "      <td>1.493733</td>\n",
       "      <td>-0.457460</td>\n",
       "      <td>0.755494</td>\n",
       "      <td>-1.125727</td>\n",
       "      <td>-0.436073</td>\n",
       "      <td>-0.754965</td>\n",
       "      <td>0.856580</td>\n",
       "      <td>-0.856802</td>\n",
       "    </tr>\n",
       "    <tr>\n",
       "      <th>1915</th>\n",
       "      <td>-0.431224</td>\n",
       "      <td>-0.676907</td>\n",
       "      <td>1.007638</td>\n",
       "      <td>-1.128006</td>\n",
       "      <td>0.029690</td>\n",
       "      <td>-0.435958</td>\n",
       "      <td>-0.823181</td>\n",
       "      <td>-0.238922</td>\n",
       "      <td>2.045387</td>\n",
       "    </tr>\n",
       "    <tr>\n",
       "      <th>1916</th>\n",
       "      <td>-0.997716</td>\n",
       "      <td>0.070928</td>\n",
       "      <td>1.087055</td>\n",
       "      <td>0.402110</td>\n",
       "      <td>-0.429121</td>\n",
       "      <td>-0.313452</td>\n",
       "      <td>-0.615309</td>\n",
       "      <td>-0.201502</td>\n",
       "      <td>0.303633</td>\n",
       "    </tr>\n",
       "  </tbody>\n",
       "</table>\n",
       "<p>1917 rows × 9 columns</p>\n",
       "</div>"
      ],
      "text/plain": [
       "      danceability   valence     tempo  loudness  acousticness  \\\n",
       "0        -1.240498 -0.753608  1.685081 -0.071700      1.121831   \n",
       "1         0.882290  1.585774 -0.693585  0.491367      0.083172   \n",
       "2         1.971697 -0.772783 -1.509940  1.107056     -1.094820   \n",
       "3        -0.754934 -1.581979 -0.558825 -1.065061      1.026128   \n",
       "4        -0.848312  0.243506  0.034845 -2.125820      1.234423   \n",
       "...            ...       ...       ...       ...           ...   \n",
       "1912     -0.045263  1.209939 -0.687541  1.008085     -0.218011   \n",
       "1913     -0.736258 -1.574309  1.795427  1.228899      0.344948   \n",
       "1914      0.764011  1.493733 -0.457460  0.755494     -1.125727   \n",
       "1915     -0.431224 -0.676907  1.007638 -1.128006      0.029690   \n",
       "1916     -0.997716  0.070928  1.087055  0.402110     -0.429121   \n",
       "\n",
       "      instrumentalness  liveness  speechiness  duration_ms  \n",
       "0            -0.436226 -0.129738    -0.411828    -0.693438  \n",
       "1            -0.413173 -0.151224    -0.369247    -0.640797  \n",
       "2            -0.436226  0.960648     1.269490     0.103270  \n",
       "3             3.104312 -0.312365    -0.456990     2.261546  \n",
       "4            -0.411859  0.085116    -0.356344     0.375212  \n",
       "...                ...       ...          ...          ...  \n",
       "1912         -0.436199 -0.750130    -0.146018     0.665640  \n",
       "1913         -0.436201 -0.597047    -0.293117    -0.388457  \n",
       "1914         -0.436073 -0.754965     0.856580    -0.856802  \n",
       "1915         -0.435958 -0.823181    -0.238922     2.045387  \n",
       "1916         -0.313452 -0.615309    -0.201502     0.303633  \n",
       "\n",
       "[1917 rows x 9 columns]"
      ]
     },
     "execution_count": 4,
     "metadata": {},
     "output_type": "execute_result"
    }
   ],
   "source": [
    "from sklearn.model_selection import train_test_split\n",
    "from sklearn.preprocessing import StandardScaler\n",
    "\n",
    "sc = StandardScaler()\n",
    "x = music_tb.drop(['artists_id', 'energy'], axis = 1)\n",
    "# x = music_tb['valence', 'duration_ms']\n",
    "x_scale = sc.fit_transform(x)\n",
    "x = pd.DataFrame(x_scale, columns = x.columns)\n",
    "y = music_tb['artists_id']\n",
    "# y1 = []\n",
    "# for i in range(0, len(y)) :\n",
    "#     y1.append(map(int, y[i]))\n",
    "\n",
    "x_train, x_test, y_train, y_test = train_test_split(x, y, test_size = 0.25, random_state = 1024)\n",
    "\n",
    "\n",
    "sc.fit(x_train)\n",
    "xtest = sc.transform(x_test)\n",
    "xtrain = sc.transform(x_train)\n",
    "\n",
    "x"
   ]
  },
  {
   "cell_type": "code",
   "execution_count": 5,
   "metadata": {},
   "outputs": [],
   "source": [
    "from sklearn.metrics import confusion_matrix,accuracy_score\n",
    "def evaluation(actuall,predict):\n",
    "    cm=confusion_matrix(actuall, predict)\n",
    "    FN = cm.sum(axis = 1) - np.diag(cm)\n",
    "    FP = cm.sum(axis = 0) - np.diag(cm)\n",
    "    TP = np.diag(cm)\n",
    "    TN = cm.sum() - FN - FP - TP\n",
    "    sensitivity = TP / (TP + FN)\n",
    "    specificity = TN / (TN + FP)\n",
    "    accuracy = (TP + TN) / (FN + FP + TP + TN)\n",
    "    print(cm)\n",
    "    accu = pd.DataFrame(accuracy).T\n",
    "#     accu.columns=[\"class1\",\"class2\",\"class3\",\"class4\"]\n",
    "    sen = pd.DataFrame(sensitivity).T\n",
    "#     sen.columns=[\"class1\",\"class2\",\"class3\",\"class4\"]\n",
    "    spe = pd.DataFrame(specificity).T\n",
    "#     spe.columns=[\"class1\",\"class2\",\"class3\",\"class4\"]\n",
    "    combine = pd.concat([sen, spe], axis=0)\n",
    "    combine = pd.concat([combine,accu], axis=0).reset_index(drop=True)\n",
    "    print(\"\\nOverall Accuracy\", accuracy_score(actuall, predict))\n",
    "    print(pd.concat([pd.DataFrame([\"Sensitivity\", \"Specificity\", \"Accuracy\"], columns = [\"matrix\"]), combine], axis = 1),\"\\n\\n\\n\")"
   ]
  },
  {
   "cell_type": "code",
   "execution_count": 6,
   "metadata": {},
   "outputs": [],
   "source": [
    "from sklearn.naive_bayes import GaussianNB\n",
    "#priors=[0.33,0.25,0.23,0.19]\n",
    "GB=GaussianNB()\n",
    "GB.fit(xtrain.astype(float), y_train.astype(float))\n",
    "GB_train_p = GB.predict(xtrain)\n",
    "GB_test_p = GB.predict(xtest)\n",
    "\n",
    "# evaluation(y_train, GB_train_p)\n",
    "\n",
    "# evaluation(y_test, GB_test_p)"
   ]
  },
  {
   "cell_type": "code",
   "execution_count": 7,
   "metadata": {},
   "outputs": [],
   "source": [
    "#fuction to plot the ROC curve\n",
    "from sklearn.metrics import roc_curve,auc\n",
    "def roc_plot(y_true,y_p,title):\n",
    "    fpr, tpr, thresholds = roc_curve(y_true,y_p, pos_label=0)\n",
    "    auc_=round(auc(fpr, tpr),3)\n",
    "    plt.plot(fpr, tpr,label= 'Area under the curve is{}'.format(auc_))\n",
    "    plt.plot([0, 1], [0, 1], linestyle='--')\n",
    "    plt.xlabel(\"False Positive Rate\")\n",
    "    plt.ylabel(\"True Positive Rate\")\n",
    "    plt.title(title)\n",
    "    plt.legend(loc=\"lower right\")\n",
    "    plt.show()\n",
    "    d=tpr-fpr\n",
    "#     print('best cut off threshold maximize both the sensitivity and specificity: ',round(thresholds[d.tolist().index(max(d))],3),\n",
    "#           '\\nThe maximizes value for sensitivity + specificity - 1 =',np.round(max(d),3))"
   ]
  },
  {
   "cell_type": "code",
   "execution_count": 8,
   "metadata": {},
   "outputs": [
    {
     "name": "stderr",
     "output_type": "stream",
     "text": [
      "c:\\users\\dell\\miniconda3\\lib\\site-packages\\sklearn\\metrics\\_ranking.py:811: UndefinedMetricWarning: No positive samples in y_true, true positive value should be meaningless\n",
      "  warnings.warn(\"No positive samples in y_true, \"\n"
     ]
    },
    {
     "data": {
      "image/png": "[encoded data removed]",
      "text/plain": [
       "<Figure size 432x288 with 1 Axes>"
      ]
     },
     "metadata": {
      "needs_background": "light"
     },
     "output_type": "display_data"
    }
   ],
   "source": [
    "roc_plot(y_train, GB_train_p, title=\"ROC curve for training set\")"
   ]
  },
  {
   "cell_type": "code",
   "execution_count": 10,
   "metadata": {},
   "outputs": [
    {
     "name": "stderr",
     "output_type": "stream",
     "text": [
      "c:\\users\\dell\\miniconda3\\lib\\site-packages\\sklearn\\metrics\\_ranking.py:811: UndefinedMetricWarning: No positive samples in y_true, true positive value should be meaningless\n",
      "  warnings.warn(\"No positive samples in y_true, \"\n"
     ]
    },
    {
     "data": {
      "image/png": "[encoded data removed]",
      "text/plain": [
       "<Figure size 432x288 with 1 Axes>"
      ]
     },
     "metadata": {
      "needs_background": "light"
     },
     "output_type": "display_data"
    }
   ],
   "source": [
    "roc_plot(y_test,GB_test_p,title=\"ROC curve for testing set\")"
   ]
  },
  {
   "cell_type": "code",
   "execution_count": 11,
   "metadata": {},
   "outputs": [],
   "source": [
    "#create a fuction to make lift plot, gain plot and the table\n",
    "def lif_tb_plot(y_p):\n",
    "    lift_tb=y_p[['positive class probability(class0)','actual class, target=0 others=1']]\n",
    "    lift_tb=lift_tb.sort_values(by=['positive class probability(class0)'],ascending=False).reset_index(drop=True)\n",
    "    \n",
    "    count=[]\n",
    "    for i in range(10,101,10):\n",
    "        count.append(int(len(lift_tb)*(i/100)))\n",
    "    \n",
    "    target=[]\n",
    "    total_target=len(lift_tb.loc[lift_tb['actual class, target=0 others=1']==0])\n",
    "    for i in count:\n",
    "        target.append((len(lift_tb.loc[:i].loc[lift_tb['actual class, target=0 others=1']==0])/total_target)*100)\n",
    "\n",
    "    cimul_count=np.array([i for i in range(10,101,10)])\n",
    "    percent=pd.DataFrame(cimul_count,columns=[\"size count%\"])\n",
    "    tb=pd.DataFrame(np.round(np.array(target),2),columns=[\"cumulative target gain % \"])\n",
    "\n",
    "    lift=[]\n",
    "    for i in range(len(target)):\n",
    "        lift.append(np.round(target[i]/cimul_count[i],3))\n",
    "    final=pd.concat([percent,tb],axis=1)\n",
    "    lift_tb1=pd.concat([final,pd.DataFrame(lift,columns=[\"lift\"])],axis=1)\n",
    "    \n",
    "    return lift_tb1, plt.plot(lift_tb1[[\"size count%\"]],lift_tb1[[\"lift\"]]),plt.title(\"lift chart\"),plt.xlabel('size count%'),plt.ylabel('lift'),plt.xlim(10,100),plt.ylim(0.8,1.5),plt.plot([10, 100],[1, 1],linestyle='--'),plt.show(),plt.plot(lift_tb1[[\"size count%\"]],lift_tb1[[\"cumulative target gain % \"]]),plt.title(\"gain chart\"),plt.xlabel('size count%'),plt.ylabel('cumulative target gain %'),plt.xlim(10,100),plt.plot([10, 100],[10, 100],linestyle='--'),plt.show()\n",
    "\n"
   ]
  },
  {
   "cell_type": "markdown",
   "metadata": {},
   "source": [
    "# #############"
   ]
  },
  {
   "cell_type": "code",
   "execution_count": 12,
   "metadata": {},
   "outputs": [
    {
     "data": {
      "text/plain": [
       "array(['artists_id', 'danceability', 'energy', 'valence', 'tempo',\n",
       "       'loudness', 'acousticness', 'instrumentalness', 'liveness',\n",
       "       'speechiness', 'duration_ms'], dtype=object)"
      ]
     },
     "execution_count": 12,
     "metadata": {},
     "output_type": "execute_result"
    }
   ],
   "source": [
    "# load data\n",
    "tb = music_tb#pd.read_csv(\"myMusic.csv\")\n",
    "tb.columns.values\n",
    "# tb.drop(\"Unnamed: 0\",axis=1,inplace=True)"
   ]
  },
  {
   "cell_type": "code",
   "execution_count": 13,
   "metadata": {},
   "outputs": [],
   "source": [
    "x = music_tb.drop('artists_id', axis = 1)\n",
    "x_scale = sc.fit_transform(x)\n",
    "x = pd.DataFrame(x_scale, columns = x.columns)\n",
    "y = music_tb['artists_id']\n",
    "\n",
    "from sklearn.metrics import accuracy_score\n",
    "from sklearn.tree import DecisionTreeClassifier\n",
    "from sklearn.naive_bayes import GaussianNB\n",
    "from sklearn.preprocessing import StandardScaler\n",
    "\n",
    "tr_train_accuracy = []\n",
    "nb_train_accuracy = []\n",
    "tr_test_accuracy = []\n",
    "nb_test_accuracy = []\n",
    "for i in range(150):\n",
    "    xtrain, xtest, ytrain, ytest = train_test_split(x, y, test_size=0.34)\n",
    "#     dt=DecisionTreeClassifier(max_depth=100,min_samples_split=30,min_samples_leaf=15)\n",
    "#     dt.fit(xtrain,ytrain)\n",
    "#     ptrain_dt=dt.predict(xtrain)\n",
    "#     ptest_dt=dt.predict(xtest)\n",
    "#     tr_train_accuracy.append(np.round(accuracy_score(ytrain,ptrain_dt),3))\n",
    "#     tr_test_accuracy.append(np.round(accuracy_score(ytest,ptest_dt),3))\n",
    "    \n",
    "    #normalize the data because gausian naive bayes assume features to be normal distributed\n",
    "    scaler = StandardScaler()\n",
    "    scaler.fit(xtrain)\n",
    "    xtest = scaler.transform(xtest)\n",
    "    xtrain = scaler.transform(xtrain)\n",
    "    nb = GaussianNB()\n",
    "    nb.fit(xtrain, ytrain)\n",
    "    ptrain_nb = nb.predict(xtrain)\n",
    "    ptest_nb = nb.predict(xtest)\n",
    "    \n",
    "    nb_train_accuracy.append(np.round(accuracy_score(ytrain, ptrain_nb), 3))\n",
    "    nb_test_accuracy.append(np.round(accuracy_score(ytest, ptest_nb), 3))"
   ]
  },
  {
   "cell_type": "code",
   "execution_count": 14,
   "metadata": {},
   "outputs": [],
   "source": [
    "def range_calculate_90(lst):\n",
    "    n = 150\n",
    "    m = np.round(np.array(lst).mean(), 3)\n",
    "    v = np.round(m * (1 - m) / n, 3)\n",
    "    std = np.sqrt(v)\n",
    "    upper_bond = np.round(m + std * 1.65, 3)\n",
    "    lower_bound = np.round(m - std * 1.65, 3)\n",
    "    return [\"mean accuracy={}\".format(m),\"variance={}\".format(v), \"90% CI upper bound={}\".format(upper_bond), \"90% CI lower bound={}\".format(lower_bound)]\n"
   ]
  },
  {
   "cell_type": "code",
   "execution_count": 15,
   "metadata": {},
   "outputs": [
    {
     "name": "stdout",
     "output_type": "stream",
     "text": [
      "\n",
      "The naive bayes on training set: \n",
      " ['mean accuracy=0.853', 'variance=0.001', '90% CI upper bound=0.905', '90% CI lower bound=0.801']\n",
      "\n",
      "The naive bayes on testing set: \n",
      " ['mean accuracy=0.029', 'variance=0.0', '90% CI upper bound=0.029', '90% CI lower bound=0.029']\n"
     ]
    }
   ],
   "source": [
    "# print(\"The decision tree model on training set:\",\"\\n\",range_calculate_90(tr_train_accuracy))\n",
    "# print(\"\\nThe decision tree model on testing set:\",\"\\n\",range_calculate_90(tr_test_accuracy))\n",
    "print(\"\\nThe naive bayes on training set:\",\"\\n\", range_calculate_90(nb_train_accuracy))\n",
    "print(\"\\nThe naive bayes on testing set:\",\"\\n\", range_calculate_90(nb_test_accuracy))"
   ]
  },
  {
   "cell_type": "code",
   "execution_count": null,
   "metadata": {},
   "outputs": [],
   "source": []
  },
  {
   "cell_type": "code",
   "execution_count": null,
   "metadata": {},
   "outputs": [],
   "source": []
  },
  {
   "cell_type": "code",
   "execution_count": null,
   "metadata": {},
   "outputs": [],
   "source": []
  }
 ],
 "metadata": {
  "kernelspec": {
   "display_name": "Python 3",
   "language": "python",
   "name": "python3"
  },
  "language_info": {
   "codemirror_mode": {
    "name": "ipython",
    "version": 3
   },
   "file_extension": ".py",
   "mimetype": "text/x-python",
   "name": "python",
   "nbconvert_exporter": "python",
   "pygments_lexer": "ipython3",
   "version": "3.8.3"
  }
 },
 "nbformat": 4,
 "nbformat_minor": 4
}
